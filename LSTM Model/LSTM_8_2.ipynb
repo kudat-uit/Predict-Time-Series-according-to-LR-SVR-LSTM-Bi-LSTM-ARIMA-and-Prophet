{
  "nbformat": 4,
  "nbformat_minor": 0,
  "metadata": {
    "colab": {
      "provenance": []
    },
    "kernelspec": {
      "name": "python3",
      "display_name": "Python 3"
    },
    "language_info": {
      "name": "python"
    }
  },
  "cells": [
    {
      "cell_type": "markdown",
      "source": [
        "### Tóm Tắt LSTM Train (**80%**) Test (**20%**)\n",
        "---\n",
        "* Data:  **2680** rows × **1** columns\n",
        "* pochs: **10**\n",
        "* Dùng **1 năm** ~ **365 ngày** để dự đoán giá của ngày tiếp theo\n",
        "* Batch_size: **60**\n",
        "---\n",
        "###Kết Quả:\n",
        "* MAPE: **6.55%**\n",
        "* RMSE: **3038684**"
      ],
      "metadata": {
        "id": "13oYGfdMx6uk"
      }
    },
    {
      "cell_type": "markdown",
      "source": [
        "####Import Libraries"
      ],
      "metadata": {
        "id": "AmlEZjgSFYIn"
      }
    },
    {
      "cell_type": "code",
      "execution_count": 1,
      "metadata": {
        "id": "YUaWQGxt2zAr"
      },
      "outputs": [],
      "source": [
        "import pandas as pd\n",
        "import datetime as dt\n",
        "import numpy as np\n",
        "import math\n",
        "\n",
        "from tensorflow.keras.models import Sequential\n",
        "from tensorflow.keras.layers import Dense, Dropout, LSTM\n",
        "from keras.models import load_model\n",
        "from keras.layers import Flatten\n",
        "from keras.layers import TimeDistributed\n",
        "from keras.layers.convolutional import Conv1D\n",
        "from keras.layers.convolutional import MaxPooling1D\n",
        "\n",
        "from sklearn.metrics import mean_absolute_error, mean_squared_error, mean_absolute_percentage_error, r2_score\n",
        "from sklearn.preprocessing import MinMaxScaler, StandardScaler\n",
        "import warnings\n",
        "warnings.filterwarnings('ignore')\n",
        "import matplotlib.pyplot as plt\n",
        "import matplotlib.ticker as ticker"
      ]
    },
    {
      "cell_type": "markdown",
      "source": [
        "####Import Data"
      ],
      "metadata": {
        "id": "DIEpSoHIFfEj"
      }
    },
    {
      "cell_type": "code",
      "source": [
        "df = pd.read_csv('Data-Gold.csv')\n",
        "df['Date'] = pd.to_datetime(df['Date'])\n",
        "df.set_index(\"Date\",inplace=True)\n",
        "df_VND = df['VND'].values.reshape(-1, 1)\n",
        "\n",
        "df"
      ],
      "metadata": {
        "id": "6R5-KaYI3HER",
        "colab": {
          "base_uri": "https://localhost:8080/",
          "height": 455
        },
        "outputId": "3cd54b3f-c0d9-4b8b-f944-6c268b4f830e"
      },
      "execution_count": 2,
      "outputs": [
        {
          "output_type": "execute_result",
          "data": {
            "text/plain": [
              "                    VND\n",
              "Date                   \n",
              "2012-01-02  32202288.50\n",
              "2012-01-03  33607538.00\n",
              "2012-01-04  33923003.00\n",
              "2012-01-05  33628569.00\n",
              "2012-01-06  34000652.75\n",
              "...                 ...\n",
              "2022-12-26  41586906.00\n",
              "2022-12-27  41894838.00\n",
              "2022-12-28  41727084.00\n",
              "2022-12-29  41961480.00\n",
              "2022-12-30  42138426.00\n",
              "\n",
              "[2870 rows x 1 columns]"
            ],
            "text/html": [
              "\n",
              "  <div id=\"df-c3ecfe84-9be3-4750-9fa2-db6354df2b3a\">\n",
              "    <div class=\"colab-df-container\">\n",
              "      <div>\n",
              "<style scoped>\n",
              "    .dataframe tbody tr th:only-of-type {\n",
              "        vertical-align: middle;\n",
              "    }\n",
              "\n",
              "    .dataframe tbody tr th {\n",
              "        vertical-align: top;\n",
              "    }\n",
              "\n",
              "    .dataframe thead th {\n",
              "        text-align: right;\n",
              "    }\n",
              "</style>\n",
              "<table border=\"1\" class=\"dataframe\">\n",
              "  <thead>\n",
              "    <tr style=\"text-align: right;\">\n",
              "      <th></th>\n",
              "      <th>VND</th>\n",
              "    </tr>\n",
              "    <tr>\n",
              "      <th>Date</th>\n",
              "      <th></th>\n",
              "    </tr>\n",
              "  </thead>\n",
              "  <tbody>\n",
              "    <tr>\n",
              "      <th>2012-01-02</th>\n",
              "      <td>32202288.50</td>\n",
              "    </tr>\n",
              "    <tr>\n",
              "      <th>2012-01-03</th>\n",
              "      <td>33607538.00</td>\n",
              "    </tr>\n",
              "    <tr>\n",
              "      <th>2012-01-04</th>\n",
              "      <td>33923003.00</td>\n",
              "    </tr>\n",
              "    <tr>\n",
              "      <th>2012-01-05</th>\n",
              "      <td>33628569.00</td>\n",
              "    </tr>\n",
              "    <tr>\n",
              "      <th>2012-01-06</th>\n",
              "      <td>34000652.75</td>\n",
              "    </tr>\n",
              "    <tr>\n",
              "      <th>...</th>\n",
              "      <td>...</td>\n",
              "    </tr>\n",
              "    <tr>\n",
              "      <th>2022-12-26</th>\n",
              "      <td>41586906.00</td>\n",
              "    </tr>\n",
              "    <tr>\n",
              "      <th>2022-12-27</th>\n",
              "      <td>41894838.00</td>\n",
              "    </tr>\n",
              "    <tr>\n",
              "      <th>2022-12-28</th>\n",
              "      <td>41727084.00</td>\n",
              "    </tr>\n",
              "    <tr>\n",
              "      <th>2022-12-29</th>\n",
              "      <td>41961480.00</td>\n",
              "    </tr>\n",
              "    <tr>\n",
              "      <th>2022-12-30</th>\n",
              "      <td>42138426.00</td>\n",
              "    </tr>\n",
              "  </tbody>\n",
              "</table>\n",
              "<p>2870 rows × 1 columns</p>\n",
              "</div>\n",
              "      <button class=\"colab-df-convert\" onclick=\"convertToInteractive('df-c3ecfe84-9be3-4750-9fa2-db6354df2b3a')\"\n",
              "              title=\"Convert this dataframe to an interactive table.\"\n",
              "              style=\"display:none;\">\n",
              "        \n",
              "  <svg xmlns=\"http://www.w3.org/2000/svg\" height=\"24px\"viewBox=\"0 0 24 24\"\n",
              "       width=\"24px\">\n",
              "    <path d=\"M0 0h24v24H0V0z\" fill=\"none\"/>\n",
              "    <path d=\"M18.56 5.44l.94 2.06.94-2.06 2.06-.94-2.06-.94-.94-2.06-.94 2.06-2.06.94zm-11 1L8.5 8.5l.94-2.06 2.06-.94-2.06-.94L8.5 2.5l-.94 2.06-2.06.94zm10 10l.94 2.06.94-2.06 2.06-.94-2.06-.94-.94-2.06-.94 2.06-2.06.94z\"/><path d=\"M17.41 7.96l-1.37-1.37c-.4-.4-.92-.59-1.43-.59-.52 0-1.04.2-1.43.59L10.3 9.45l-7.72 7.72c-.78.78-.78 2.05 0 2.83L4 21.41c.39.39.9.59 1.41.59.51 0 1.02-.2 1.41-.59l7.78-7.78 2.81-2.81c.8-.78.8-2.07 0-2.86zM5.41 20L4 18.59l7.72-7.72 1.47 1.35L5.41 20z\"/>\n",
              "  </svg>\n",
              "      </button>\n",
              "      \n",
              "  <style>\n",
              "    .colab-df-container {\n",
              "      display:flex;\n",
              "      flex-wrap:wrap;\n",
              "      gap: 12px;\n",
              "    }\n",
              "\n",
              "    .colab-df-convert {\n",
              "      background-color: #E8F0FE;\n",
              "      border: none;\n",
              "      border-radius: 50%;\n",
              "      cursor: pointer;\n",
              "      display: none;\n",
              "      fill: #1967D2;\n",
              "      height: 32px;\n",
              "      padding: 0 0 0 0;\n",
              "      width: 32px;\n",
              "    }\n",
              "\n",
              "    .colab-df-convert:hover {\n",
              "      background-color: #E2EBFA;\n",
              "      box-shadow: 0px 1px 2px rgba(60, 64, 67, 0.3), 0px 1px 3px 1px rgba(60, 64, 67, 0.15);\n",
              "      fill: #174EA6;\n",
              "    }\n",
              "\n",
              "    [theme=dark] .colab-df-convert {\n",
              "      background-color: #3B4455;\n",
              "      fill: #D2E3FC;\n",
              "    }\n",
              "\n",
              "    [theme=dark] .colab-df-convert:hover {\n",
              "      background-color: #434B5C;\n",
              "      box-shadow: 0px 1px 3px 1px rgba(0, 0, 0, 0.15);\n",
              "      filter: drop-shadow(0px 1px 2px rgba(0, 0, 0, 0.3));\n",
              "      fill: #FFFFFF;\n",
              "    }\n",
              "  </style>\n",
              "\n",
              "      <script>\n",
              "        const buttonEl =\n",
              "          document.querySelector('#df-c3ecfe84-9be3-4750-9fa2-db6354df2b3a button.colab-df-convert');\n",
              "        buttonEl.style.display =\n",
              "          google.colab.kernel.accessAllowed ? 'block' : 'none';\n",
              "\n",
              "        async function convertToInteractive(key) {\n",
              "          const element = document.querySelector('#df-c3ecfe84-9be3-4750-9fa2-db6354df2b3a');\n",
              "          const dataTable =\n",
              "            await google.colab.kernel.invokeFunction('convertToInteractive',\n",
              "                                                     [key], {});\n",
              "          if (!dataTable) return;\n",
              "\n",
              "          const docLinkHtml = 'Like what you see? Visit the ' +\n",
              "            '<a target=\"_blank\" href=https://colab.research.google.com/notebooks/data_table.ipynb>data table notebook</a>'\n",
              "            + ' to learn more about interactive tables.';\n",
              "          element.innerHTML = '';\n",
              "          dataTable['output_type'] = 'display_data';\n",
              "          await google.colab.output.renderOutput(dataTable, element);\n",
              "          const docLink = document.createElement('div');\n",
              "          docLink.innerHTML = docLinkHtml;\n",
              "          element.appendChild(docLink);\n",
              "        }\n",
              "      </script>\n",
              "    </div>\n",
              "  </div>\n",
              "  "
            ]
          },
          "metadata": {},
          "execution_count": 2
        }
      ]
    },
    {
      "cell_type": "markdown",
      "source": [
        "####Visualization **\"Gold Price History\"**"
      ],
      "metadata": {
        "id": "fi6QqLdGMxaQ"
      }
    },
    {
      "cell_type": "code",
      "source": [
        "formatter = ticker.StrMethodFormatter('{x:,.0f} VND Dong')\n",
        "\n",
        "title = 'Gold Price History'\n",
        "ylabel = 'VND'\n",
        "xlabel = 'Date'\n",
        "\n",
        "ax = df['VND'].plot(figsize=(16, 9), title=title)\n",
        "ax.autoscale(axis='x', tight=True)\n",
        "ax.set(xlabel=xlabel, ylabel=ylabel)\n",
        "ax.yaxis.set_major_formatter(formatter)\n",
        "ax.grid(True)"
      ],
      "metadata": {
        "id": "s8Kdz1r_3jRY",
        "colab": {
          "base_uri": "https://localhost:8080/",
          "height": 336
        },
        "outputId": "09fa148c-e860-4241-9aad-7c083a5d1bdf"
      },
      "execution_count": 3,
      "outputs": [
        {
          "output_type": "display_data",
          "data": {
            "text/plain": [
              "<Figure size 1152x648 with 1 Axes>"
            ],
            "image/png": "[encoded data removed]"
          },
          "metadata": {
            "needs_background": "light"
          }
        }
      ]
    },
    {
      "cell_type": "code",
      "source": [
        "gold_price=df['VND']\n",
        "values=gold_price.values\n",
        "Train_len=math.ceil(len(values)*0.8)\n",
        "Train_len"
      ],
      "metadata": {
        "id": "aTJNe_bV3m7k",
        "colab": {
          "base_uri": "https://localhost:8080/"
        },
        "outputId": "8f8b1be8-d3e6-4b90-cafb-7cee2f6112b8"
      },
      "execution_count": 4,
      "outputs": [
        {
          "output_type": "execute_result",
          "data": {
            "text/plain": [
              "2296"
            ]
          },
          "metadata": {},
          "execution_count": 4
        }
      ]
    },
    {
      "cell_type": "markdown",
      "source": [
        "### Trực chuẩn hoá dữ liệu"
      ],
      "metadata": {
        "id": "a7-VmdtzOtBV"
      }
    },
    {
      "cell_type": "code",
      "source": [
        "sc=MinMaxScaler(feature_range=(0,1))\n",
        "scaled_data=sc.fit_transform(df)\n",
        "scaled_data"
      ],
      "metadata": {
        "id": "9rliiNzAO1KX",
        "colab": {
          "base_uri": "https://localhost:8080/"
        },
        "outputId": "cf9357b2-a953-4e6d-d62c-4ec6fcbe0c09"
      },
      "execution_count": 5,
      "outputs": [
        {
          "output_type": "execute_result",
          "data": {
            "text/plain": [
              "array([[0.35425019],\n",
              "       [0.4120421 ],\n",
              "       [0.42501583],\n",
              "       ...,\n",
              "       [0.74596438],\n",
              "       [0.75560409],\n",
              "       [0.76288112]])"
            ]
          },
          "metadata": {},
          "execution_count": 5
        }
      ]
    },
    {
      "cell_type": "markdown",
      "source": [
        "### Create Training & Testing Data"
      ],
      "metadata": {
        "id": "3UrEIXlAPSa-"
      }
    },
    {
      "cell_type": "code",
      "source": [
        "train_data=scaled_data[0:Train_len,:]\n",
        "\n",
        "train_x=[]\n",
        "train_y=[]\n",
        "\n",
        "for i in range(365, len(train_data)):  # 1 years\n",
        "  train_x.append(train_data[i-365:i,0])\n",
        "  train_y.append(train_data[i,0])\n",
        "\n",
        "train_x,train_y=np.array(train_x), np.array(train_y)\n",
        "\n",
        "train_x=np.reshape(train_x,(train_x.shape[0],train_x.shape[1],1))\n"
      ],
      "metadata": {
        "id": "cqjK5SFSQHPY"
      },
      "execution_count": 6,
      "outputs": []
    },
    {
      "cell_type": "markdown",
      "source": [
        "### Xây dựng model"
      ],
      "metadata": {
        "id": "_L3WipC-gfdU"
      }
    },
    {
      "cell_type": "code",
      "source": [
        "# define model\n",
        "model = Sequential()\n",
        "model.add(LSTM(100,return_sequences=True,input_shape=(train_x.shape[1],1)))\n",
        "model.add(LSTM(100, return_sequences=False))\n",
        "model.add(Dense(25))\n",
        "model.add(Dense(1))\n",
        "# compile model\n",
        "model.compile(loss='mse', optimizer='adam')\n",
        "# fit model\n",
        "m=model.fit(train_x, train_y,batch_size= 32, epochs=50)"
      ],
      "metadata": {
        "colab": {
          "base_uri": "https://localhost:8080/"
        },
        "id": "Wz_5irx0XueN",
        "outputId": "93263f26-e518-40bf-fe0d-7cc844e9d1f6"
      },
      "execution_count": 7,
      "outputs": [
        {
          "output_type": "stream",
          "name": "stdout",
          "text": [
            "Epoch 1/50\n",
            "61/61 [==============================] - 35s 504ms/step - loss: 0.0056\n",
            "Epoch 2/50\n",
            "61/61 [==============================] - 25s 409ms/step - loss: 6.4480e-04\n",
            "Epoch 3/50\n",
            "61/61 [==============================] - 26s 425ms/step - loss: 6.2523e-04\n",
            "Epoch 4/50\n",
            "61/61 [==============================] - 25s 411ms/step - loss: 6.1768e-04\n",
            "Epoch 5/50\n",
            "61/61 [==============================] - 25s 413ms/step - loss: 5.1742e-04\n",
            "Epoch 6/50\n",
            "61/61 [==============================] - 25s 411ms/step - loss: 4.9255e-04\n",
            "Epoch 7/50\n",
            "61/61 [==============================] - 25s 410ms/step - loss: 4.6903e-04\n",
            "Epoch 8/50\n",
            "61/61 [==============================] - 25s 407ms/step - loss: 4.5321e-04\n",
            "Epoch 9/50\n",
            "61/61 [==============================] - 25s 409ms/step - loss: 3.9417e-04\n",
            "Epoch 10/50\n",
            "61/61 [==============================] - 25s 409ms/step - loss: 3.7571e-04\n",
            "Epoch 11/50\n",
            "61/61 [==============================] - 25s 411ms/step - loss: 3.6126e-04\n",
            "Epoch 12/50\n",
            "61/61 [==============================] - 25s 405ms/step - loss: 3.4996e-04\n",
            "Epoch 13/50\n",
            "61/61 [==============================] - 25s 406ms/step - loss: 3.6585e-04\n",
            "Epoch 14/50\n",
            "61/61 [==============================] - 25s 408ms/step - loss: 3.4698e-04\n",
            "Epoch 15/50\n",
            "61/61 [==============================] - 25s 409ms/step - loss: 3.0125e-04\n",
            "Epoch 16/50\n",
            "61/61 [==============================] - 25s 409ms/step - loss: 2.9215e-04\n",
            "Epoch 17/50\n",
            "61/61 [==============================] - 25s 412ms/step - loss: 3.2054e-04\n",
            "Epoch 18/50\n",
            "61/61 [==============================] - 26s 422ms/step - loss: 2.7097e-04\n",
            "Epoch 19/50\n",
            "61/61 [==============================] - 25s 415ms/step - loss: 2.7333e-04\n",
            "Epoch 20/50\n",
            "61/61 [==============================] - 26s 420ms/step - loss: 2.8669e-04\n",
            "Epoch 21/50\n",
            "61/61 [==============================] - 26s 423ms/step - loss: 2.5295e-04\n",
            "Epoch 22/50\n",
            "61/61 [==============================] - 25s 416ms/step - loss: 2.6500e-04\n",
            "Epoch 23/50\n",
            "61/61 [==============================] - 26s 424ms/step - loss: 2.0752e-04\n",
            "Epoch 24/50\n",
            "61/61 [==============================] - 26s 423ms/step - loss: 2.5237e-04\n",
            "Epoch 25/50\n",
            "61/61 [==============================] - 26s 424ms/step - loss: 1.9507e-04\n",
            "Epoch 26/50\n",
            "61/61 [==============================] - 26s 420ms/step - loss: 1.7666e-04\n",
            "Epoch 27/50\n",
            "61/61 [==============================] - 26s 419ms/step - loss: 1.8595e-04\n",
            "Epoch 28/50\n",
            "61/61 [==============================] - 26s 421ms/step - loss: 1.7282e-04\n",
            "Epoch 29/50\n",
            "61/61 [==============================] - 26s 419ms/step - loss: 1.6958e-04\n",
            "Epoch 30/50\n",
            "61/61 [==============================] - 26s 423ms/step - loss: 1.9125e-04\n",
            "Epoch 31/50\n",
            "61/61 [==============================] - 26s 426ms/step - loss: 1.9109e-04\n",
            "Epoch 32/50\n",
            "61/61 [==============================] - 25s 416ms/step - loss: 1.8896e-04\n",
            "Epoch 33/50\n",
            "61/61 [==============================] - 26s 421ms/step - loss: 1.8139e-04\n",
            "Epoch 34/50\n",
            "61/61 [==============================] - 26s 426ms/step - loss: 1.8931e-04\n",
            "Epoch 35/50\n",
            "61/61 [==============================] - 26s 433ms/step - loss: 1.9256e-04\n",
            "Epoch 36/50\n",
            "61/61 [==============================] - 26s 425ms/step - loss: 1.7471e-04\n",
            "Epoch 37/50\n",
            "61/61 [==============================] - 26s 423ms/step - loss: 1.7508e-04\n",
            "Epoch 38/50\n",
            "61/61 [==============================] - 26s 423ms/step - loss: 2.1627e-04\n",
            "Epoch 39/50\n",
            "61/61 [==============================] - 26s 425ms/step - loss: 2.0848e-04\n",
            "Epoch 40/50\n",
            "61/61 [==============================] - 26s 431ms/step - loss: 1.6457e-04\n",
            "Epoch 41/50\n",
            "61/61 [==============================] - 26s 423ms/step - loss: 1.5879e-04\n",
            "Epoch 42/50\n",
            "61/61 [==============================] - 26s 426ms/step - loss: 1.8779e-04\n",
            "Epoch 43/50\n",
            "61/61 [==============================] - 26s 426ms/step - loss: 2.0301e-04\n",
            "Epoch 44/50\n",
            "61/61 [==============================] - 26s 424ms/step - loss: 1.5822e-04\n",
            "Epoch 45/50\n",
            "61/61 [==============================] - 26s 419ms/step - loss: 1.5627e-04\n",
            "Epoch 46/50\n",
            "61/61 [==============================] - 26s 418ms/step - loss: 1.8733e-04\n",
            "Epoch 47/50\n",
            "61/61 [==============================] - 26s 420ms/step - loss: 1.9589e-04\n",
            "Epoch 48/50\n",
            "61/61 [==============================] - 25s 417ms/step - loss: 1.8282e-04\n",
            "Epoch 49/50\n",
            "61/61 [==============================] - 25s 417ms/step - loss: 1.7156e-04\n",
            "Epoch 50/50\n",
            "61/61 [==============================] - 26s 424ms/step - loss: 1.7507e-04\n"
          ]
        }
      ]
    },
    {
      "cell_type": "code",
      "source": [
        "model.save(\"GoldPrice_lstm_8_2.h5\")"
      ],
      "metadata": {
        "id": "ZgC13VzREi9I"
      },
      "execution_count": 8,
      "outputs": []
    },
    {
      "cell_type": "code",
      "source": [
        "# Create the testing data\n",
        "test_data=scaled_data[Train_len-365:,:]\n",
        "test_x=[]\n",
        "test_y=df[Train_len:]\n",
        "for i in range (365, len(test_data)):\n",
        "  test_x.append(test_data[i-365:i,0])\n",
        "test_x=np.array(test_x)\n",
        "test_x=np.reshape(test_x,(test_x.shape[0],test_x.shape[1],1))"
      ],
      "metadata": {
        "id": "nPK931YJj_ay"
      },
      "execution_count": 9,
      "outputs": []
    },
    {
      "cell_type": "code",
      "source": [
        "Predictions= model.predict(test_x)\n",
        "Predictions=sc.inverse_transform(Predictions)"
      ],
      "metadata": {
        "colab": {
          "base_uri": "https://localhost:8080/"
        },
        "id": "tbpDtIiiicRZ",
        "outputId": "7f8faf9b-d1e7-4e0a-b003-7605e1a8177a"
      },
      "execution_count": 10,
      "outputs": [
        {
          "output_type": "stream",
          "name": "stdout",
          "text": [
            "18/18 [==============================] - 3s 117ms/step\n"
          ]
        }
      ]
    },
    {
      "cell_type": "code",
      "source": [
        "#plot data\n",
        "train=df[:Train_len]\n",
        "validation=df[Train_len:]\n",
        "validation['Predictions']= Predictions\n",
        "#visualize data\n",
        "plt.figure(figsize=(16,8))\n",
        "plt.title('Forcasting Gold Price According To The LSTM Model')\n",
        "plt.xlabel('Date', fontsize=18)\n",
        "plt.ylabel('Vietnamese Dong',fontsize=18)\n",
        "plt.plot(train['VND'])\n",
        "plt.plot(validation[['VND','Predictions']])\n",
        "plt.legend(['Training','Validation','Predictions'])\n",
        "plt.show()"
      ],
      "metadata": {
        "colab": {
          "base_uri": "https://localhost:8080/",
          "height": 359
        },
        "id": "kDZBs0RBifZX",
        "outputId": "86845512-3031-4415-8c5b-3a1196528d5b"
      },
      "execution_count": 11,
      "outputs": [
        {
          "output_type": "display_data",
          "data": {
            "text/plain": [
              "<Figure size 1152x576 with 1 Axes>"
            ],
            "image/png": "[encoded data removed]"
          },
          "metadata": {
            "needs_background": "light"
          }
        }
      ]
    },
    {
      "cell_type": "code",
      "source": [
        "validation"
      ],
      "metadata": {
        "colab": {
          "base_uri": "https://localhost:8080/",
          "height": 455
        },
        "id": "pqdtKjr_OQh3",
        "outputId": "c85fdac0-97d9-4319-e3e6-66c74affc119"
      },
      "execution_count": 12,
      "outputs": [
        {
          "output_type": "execute_result",
          "data": {
            "text/plain": [
              "                    VND  Predictions\n",
              "Date                                \n",
              "2020-10-20  44003960.54   43811768.0\n",
              "2020-10-21  44597946.44   43603696.0\n",
              "2020-10-22  44058317.02   44286488.0\n",
              "2020-10-23  44120893.79   43603228.0\n",
              "2020-10-26  43999425.29   43707728.0\n",
              "...                 ...          ...\n",
              "2022-12-26  41586906.00   41096136.0\n",
              "2022-12-27  41894838.00   41277416.0\n",
              "2022-12-28  41727084.00   41601940.0\n",
              "2022-12-29  41961480.00   41381816.0\n",
              "2022-12-30  42138426.00   41623228.0\n",
              "\n",
              "[574 rows x 2 columns]"
            ],
            "text/html": [
              "\n",
              "  <div id=\"df-042831a5-2776-48d4-af7b-a35590fd23e3\">\n",
              "    <div class=\"colab-df-container\">\n",
              "      <div>\n",
              "<style scoped>\n",
              "    .dataframe tbody tr th:only-of-type {\n",
              "        vertical-align: middle;\n",
              "    }\n",
              "\n",
              "    .dataframe tbody tr th {\n",
              "        vertical-align: top;\n",
              "    }\n",
              "\n",
              "    .dataframe thead th {\n",
              "        text-align: right;\n",
              "    }\n",
              "</style>\n",
              "<table border=\"1\" class=\"dataframe\">\n",
              "  <thead>\n",
              "    <tr style=\"text-align: right;\">\n",
              "      <th></th>\n",
              "      <th>VND</th>\n",
              "      <th>Predictions</th>\n",
              "    </tr>\n",
              "    <tr>\n",
              "      <th>Date</th>\n",
              "      <th></th>\n",
              "      <th></th>\n",
              "    </tr>\n",
              "  </thead>\n",
              "  <tbody>\n",
              "    <tr>\n",
              "      <th>2020-10-20</th>\n",
              "      <td>44003960.54</td>\n",
              "      <td>43811768.0</td>\n",
              "    </tr>\n",
              "    <tr>\n",
              "      <th>2020-10-21</th>\n",
              "      <td>44597946.44</td>\n",
              "      <td>43603696.0</td>\n",
              "    </tr>\n",
              "    <tr>\n",
              "      <th>2020-10-22</th>\n",
              "      <td>44058317.02</td>\n",
              "      <td>44286488.0</td>\n",
              "    </tr>\n",
              "    <tr>\n",
              "      <th>2020-10-23</th>\n",
              "      <td>44120893.79</td>\n",
              "      <td>43603228.0</td>\n",
              "    </tr>\n",
              "    <tr>\n",
              "      <th>2020-10-26</th>\n",
              "      <td>43999425.29</td>\n",
              "      <td>43707728.0</td>\n",
              "    </tr>\n",
              "    <tr>\n",
              "      <th>...</th>\n",
              "      <td>...</td>\n",
              "      <td>...</td>\n",
              "    </tr>\n",
              "    <tr>\n",
              "      <th>2022-12-26</th>\n",
              "      <td>41586906.00</td>\n",
              "      <td>41096136.0</td>\n",
              "    </tr>\n",
              "    <tr>\n",
              "      <th>2022-12-27</th>\n",
              "      <td>41894838.00</td>\n",
              "      <td>41277416.0</td>\n",
              "    </tr>\n",
              "    <tr>\n",
              "      <th>2022-12-28</th>\n",
              "      <td>41727084.00</td>\n",
              "      <td>41601940.0</td>\n",
              "    </tr>\n",
              "    <tr>\n",
              "      <th>2022-12-29</th>\n",
              "      <td>41961480.00</td>\n",
              "      <td>41381816.0</td>\n",
              "    </tr>\n",
              "    <tr>\n",
              "      <th>2022-12-30</th>\n",
              "      <td>42138426.00</td>\n",
              "      <td>41623228.0</td>\n",
              "    </tr>\n",
              "  </tbody>\n",
              "</table>\n",
              "<p>574 rows × 2 columns</p>\n",
              "</div>\n",
              "      <button class=\"colab-df-convert\" onclick=\"convertToInteractive('df-042831a5-2776-48d4-af7b-a35590fd23e3')\"\n",
              "              title=\"Convert this dataframe to an interactive table.\"\n",
              "              style=\"display:none;\">\n",
              "        \n",
              "  <svg xmlns=\"http://www.w3.org/2000/svg\" height=\"24px\"viewBox=\"0 0 24 24\"\n",
              "       width=\"24px\">\n",
              "    <path d=\"M0 0h24v24H0V0z\" fill=\"none\"/>\n",
              "    <path d=\"M18.56 5.44l.94 2.06.94-2.06 2.06-.94-2.06-.94-.94-2.06-.94 2.06-2.06.94zm-11 1L8.5 8.5l.94-2.06 2.06-.94-2.06-.94L8.5 2.5l-.94 2.06-2.06.94zm10 10l.94 2.06.94-2.06 2.06-.94-2.06-.94-.94-2.06-.94 2.06-2.06.94z\"/><path d=\"M17.41 7.96l-1.37-1.37c-.4-.4-.92-.59-1.43-.59-.52 0-1.04.2-1.43.59L10.3 9.45l-7.72 7.72c-.78.78-.78 2.05 0 2.83L4 21.41c.39.39.9.59 1.41.59.51 0 1.02-.2 1.41-.59l7.78-7.78 2.81-2.81c.8-.78.8-2.07 0-2.86zM5.41 20L4 18.59l7.72-7.72 1.47 1.35L5.41 20z\"/>\n",
              "  </svg>\n",
              "      </button>\n",
              "      \n",
              "  <style>\n",
              "    .colab-df-container {\n",
              "      display:flex;\n",
              "      flex-wrap:wrap;\n",
              "      gap: 12px;\n",
              "    }\n",
              "\n",
              "    .colab-df-convert {\n",
              "      background-color: #E8F0FE;\n",
              "      border: none;\n",
              "      border-radius: 50%;\n",
              "      cursor: pointer;\n",
              "      display: none;\n",
              "      fill: #1967D2;\n",
              "      height: 32px;\n",
              "      padding: 0 0 0 0;\n",
              "      width: 32px;\n",
              "    }\n",
              "\n",
              "    .colab-df-convert:hover {\n",
              "      background-color: #E2EBFA;\n",
              "      box-shadow: 0px 1px 2px rgba(60, 64, 67, 0.3), 0px 1px 3px 1px rgba(60, 64, 67, 0.15);\n",
              "      fill: #174EA6;\n",
              "    }\n",
              "\n",
              "    [theme=dark] .colab-df-convert {\n",
              "      background-color: #3B4455;\n",
              "      fill: #D2E3FC;\n",
              "    }\n",
              "\n",
              "    [theme=dark] .colab-df-convert:hover {\n",
              "      background-color: #434B5C;\n",
              "      box-shadow: 0px 1px 3px 1px rgba(0, 0, 0, 0.15);\n",
              "      filter: drop-shadow(0px 1px 2px rgba(0, 0, 0, 0.3));\n",
              "      fill: #FFFFFF;\n",
              "    }\n",
              "  </style>\n",
              "\n",
              "      <script>\n",
              "        const buttonEl =\n",
              "          document.querySelector('#df-042831a5-2776-48d4-af7b-a35590fd23e3 button.colab-df-convert');\n",
              "        buttonEl.style.display =\n",
              "          google.colab.kernel.accessAllowed ? 'block' : 'none';\n",
              "\n",
              "        async function convertToInteractive(key) {\n",
              "          const element = document.querySelector('#df-042831a5-2776-48d4-af7b-a35590fd23e3');\n",
              "          const dataTable =\n",
              "            await google.colab.kernel.invokeFunction('convertToInteractive',\n",
              "                                                     [key], {});\n",
              "          if (!dataTable) return;\n",
              "\n",
              "          const docLinkHtml = 'Like what you see? Visit the ' +\n",
              "            '<a target=\"_blank\" href=https://colab.research.google.com/notebooks/data_table.ipynb>data table notebook</a>'\n",
              "            + ' to learn more about interactive tables.';\n",
              "          element.innerHTML = '';\n",
              "          dataTable['output_type'] = 'display_data';\n",
              "          await google.colab.output.renderOutput(dataTable, element);\n",
              "          const docLink = document.createElement('div');\n",
              "          docLink.innerHTML = docLinkHtml;\n",
              "          element.appendChild(docLink);\n",
              "        }\n",
              "      </script>\n",
              "    </div>\n",
              "  </div>\n",
              "  "
            ]
          },
          "metadata": {},
          "execution_count": 12
        }
      ]
    },
    {
      "cell_type": "code",
      "source": [
        "data=validation['VND']"
      ],
      "metadata": {
        "id": "Xoi1ozKZCBkz"
      },
      "execution_count": 13,
      "outputs": []
    },
    {
      "cell_type": "code",
      "source": [
        "data"
      ],
      "metadata": {
        "colab": {
          "base_uri": "https://localhost:8080/"
        },
        "id": "ETO6SnC3CHh3",
        "outputId": "63505aba-a448-4602-b0d6-867d8c169745"
      },
      "execution_count": 14,
      "outputs": [
        {
          "output_type": "execute_result",
          "data": {
            "text/plain": [
              "Date\n",
              "2020-10-20    44003960.54\n",
              "2020-10-21    44597946.44\n",
              "2020-10-22    44058317.02\n",
              "2020-10-23    44120893.79\n",
              "2020-10-26    43999425.29\n",
              "                 ...     \n",
              "2022-12-26    41586906.00\n",
              "2022-12-27    41894838.00\n",
              "2022-12-28    41727084.00\n",
              "2022-12-29    41961480.00\n",
              "2022-12-30    42138426.00\n",
              "Name: VND, Length: 574, dtype: float64"
            ]
          },
          "metadata": {},
          "execution_count": 14
        }
      ]
    },
    {
      "cell_type": "code",
      "source": [
        "#mae = mean_absolute_error(data, Predictions)\n",
        "mape = mean_absolute_percentage_error(data, Predictions)\n",
        "mse = mean_squared_error(data, Predictions)\n",
        "rmse = np.sqrt(mse)\n",
        "#r2 = r2_score(data, Predictions)\n",
        "#print(f\"MAE: {mae:.2f}\")\n",
        "print(f\"MAPE: {mape * 100:.2f}%\")\n",
        "#print(f\"MSE: {mse:.2f}\")\n",
        "print(f\"RMSE: {rmse:.0f}\")\n",
        "#print(\"R2: \",r2)"
      ],
      "metadata": {
        "id": "zSG_mUOIm6pD",
        "colab": {
          "base_uri": "https://localhost:8080/"
        },
        "outputId": "6ed954a8-ebe1-4c09-818b-084207dfaae2"
      },
      "execution_count": 15,
      "outputs": [
        {
          "output_type": "stream",
          "name": "stdout",
          "text": [
            "MAPE: 1.01%\n",
            "RMSE: 512538\n"
          ]
        }
      ]
    },
    {
      "cell_type": "code",
      "source": [
        "# Last_half_year=df[-548:].values\n",
        "# Last_half_year_scaled=sc.transform(Last_half_year)\n",
        "# x_test=[]\n",
        "# x_test.append(Last_half_year_scaled)\n",
        "# x_test=np.array(x_test)\n",
        "# x_test=np.reshape(x_test,(x_test.shape[0],x_test.shape[1],1))\n",
        "# x_test.shape"
      ],
      "metadata": {
        "id": "83god-eEBtp2"
      },
      "execution_count": 16,
      "outputs": []
    },
    {
      "cell_type": "code",
      "source": [
        "# model.reset_states()\n",
        "# pred_price=model.predict(x_test)\n",
        "# pred_price=sc.inverse_transform(pred_price)\n",
        "# print(pred_price) #2022-08-05"
      ],
      "metadata": {
        "id": "BeczfDXiEDQ8"
      },
      "execution_count": 17,
      "outputs": []
    },
    {
      "cell_type": "code",
      "source": [
        "# len(test_data)"
      ],
      "metadata": {
        "id": "wluF77HzJpF_"
      },
      "execution_count": 18,
      "outputs": []
    },
    {
      "cell_type": "code",
      "source": [
        "#Getting the last 600 days records\n",
        "# future=test_data[301:]"
      ],
      "metadata": {
        "id": "4t0SdBNLJvCA"
      },
      "execution_count": 19,
      "outputs": []
    },
    {
      "cell_type": "code",
      "source": [
        "# future=future.reshape(1,-1)\n",
        "# temp=list(future)\n",
        "# future.shape"
      ],
      "metadata": {
        "id": "iLo0x1KkVuN4"
      },
      "execution_count": 20,
      "outputs": []
    },
    {
      "cell_type": "code",
      "source": [
        "#Creating list of the last 600 data\n",
        "# temp=temp[0].tolist()"
      ],
      "metadata": {
        "id": "JD9_zXLNV7et"
      },
      "execution_count": 21,
      "outputs": []
    },
    {
      "cell_type": "code",
      "source": [
        "#Predicting next 270 days price uisng the current data\n",
        "# lst_output=[]\n",
        "# n_steps=599\n",
        "# i=0\n",
        "# while(i<270):\n",
        "    \n",
        "#     if(len(temp)>600):\n",
        "#         future = np.array(temp[1:])\n",
        "#         future=future.reshape(1,-1)\n",
        "#         future = future.reshape((1, n_steps, 1))\n",
        "#         yhat = model.predict(future, verbose=0)\n",
        "#         temp.extend(yhat[0].tolist())\n",
        "#         temp = temp[1:]\n",
        "#         lst_output.extend(yhat.tolist())\n",
        "#         i=i+1\n",
        "#     else:\n",
        "#         future = future.reshape((1, n_steps,1))\n",
        "#         yhat = model.predict(future, verbose=0)\n",
        "#         temp.extend(yhat[0].tolist())\n",
        "#         lst_output.extend(yhat.tolist())\n",
        "#         i=i+1\n",
        "\n",
        "# print(lst_output)"
      ],
      "metadata": {
        "id": "udJUWP9hV_17"
      },
      "execution_count": 22,
      "outputs": []
    },
    {
      "cell_type": "code",
      "source": [
        "# len(scaled_data)"
      ],
      "metadata": {
        "id": "eDKMlv-dWfwH"
      },
      "execution_count": 23,
      "outputs": []
    },
    {
      "cell_type": "code",
      "source": [
        "#Creating a dummy plane to plot graph one after another\n",
        "# plot_new=np.arange(1,601)\n",
        "# plot_pred=np.arange(601,871)\n",
        "# plt.plot(plot_new, sc.inverse_transform(scaled_data[2080:]))\n",
        "# plt.plot(plot_pred, sc.inverse_transform(lst_output),c='pink')"
      ],
      "metadata": {
        "id": "G1d35Q1Ea59B"
      },
      "execution_count": 24,
      "outputs": []
    },
    {
      "cell_type": "code",
      "source": [
        "# dataset_new=scaled_data.tolist()"
      ],
      "metadata": {
        "id": "wW68AhNtXECl"
      },
      "execution_count": 25,
      "outputs": []
    },
    {
      "cell_type": "code",
      "source": [
        "# len(dataset_new)"
      ],
      "metadata": {
        "id": "GasaMYM1Xia4"
      },
      "execution_count": 26,
      "outputs": []
    },
    {
      "cell_type": "code",
      "source": [
        "#Entends helps us to fill the missing value with approx value\n",
        "# dataset_new.extend(lst_output)"
      ],
      "metadata": {
        "id": "_cPLXrR4YyvG"
      },
      "execution_count": 27,
      "outputs": []
    },
    {
      "cell_type": "code",
      "source": [
        "# final=sc.inverse_transform(dataset_new).tolist()\n",
        "\n",
        "# plt.ylabel(\"Gold Price in Future\")\n",
        "# plt.xlabel(\"Time\")\n",
        "# plt.title(\"Prediction of next 270 days for Gold Price\")\n",
        "# plt.plot(final, c='pink')\n",
        "# plt.show()\n"
      ],
      "metadata": {
        "id": "OXTV83DHXl3R"
      },
      "execution_count": 28,
      "outputs": []
    },
    {
      "cell_type": "code",
      "source": [],
      "metadata": {
        "id": "OL5paQPIj2mk"
      },
      "execution_count": 28,
      "outputs": []
    }
  ]
}