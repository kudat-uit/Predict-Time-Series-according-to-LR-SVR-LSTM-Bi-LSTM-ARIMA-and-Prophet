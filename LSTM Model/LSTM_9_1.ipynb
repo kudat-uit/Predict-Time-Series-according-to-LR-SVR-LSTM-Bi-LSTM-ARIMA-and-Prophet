{
  "nbformat": 4,
  "nbformat_minor": 0,
  "metadata": {
    "colab": {
      "provenance": []
    },
    "kernelspec": {
      "name": "python3",
      "display_name": "Python 3"
    },
    "language_info": {
      "name": "python"
    }
  },
  "cells": [
    {
      "cell_type": "markdown",
      "source": [
        "# Pham Thanh Dat - 20521175"
      ],
      "metadata": {
        "id": "13oYGfdMx6uk"
      }
    },
    {
      "cell_type": "code",
      "execution_count": 1,
      "metadata": {
        "id": "YUaWQGxt2zAr"
      },
      "outputs": [],
      "source": [
        "import pandas as pd\n",
        "import datetime as dt\n",
        "import numpy as np\n",
        "import math\n",
        "\n",
        "from tensorflow.keras.models import Sequential\n",
        "from tensorflow.keras.layers import Dense, Dropout, LSTM\n",
        "from keras.models import load_model\n",
        "from keras.layers import Flatten\n",
        "from keras.layers import TimeDistributed\n",
        "from keras.layers.convolutional import Conv1D\n",
        "from keras.layers.convolutional import MaxPooling1D\n",
        "\n",
        "from sklearn.metrics import mean_absolute_error, mean_squared_error, mean_absolute_percentage_error, r2_score\n",
        "from sklearn.preprocessing import MinMaxScaler, StandardScaler\n",
        "import warnings\n",
        "warnings.filterwarnings('ignore')\n",
        "import matplotlib.pyplot as plt\n",
        "import matplotlib.ticker as ticker"
      ]
    },
    {
      "cell_type": "code",
      "source": [
        "df = pd.read_csv('Data-Gold.csv')\n",
        "df['Date'] = pd.to_datetime(df['Date'])\n",
        "df.set_index(\"Date\",inplace=True)\n",
        "df_VND = df['VND'].values.reshape(-1, 1)\n",
        "\n",
        "df"
      ],
      "metadata": {
        "id": "6R5-KaYI3HER",
        "colab": {
          "base_uri": "https://localhost:8080/",
          "height": 455
        },
        "outputId": "7f718328-1b4b-4936-9751-7db00447f50d"
      },
      "execution_count": 2,
      "outputs": [
        {
          "output_type": "execute_result",
          "data": {
            "text/plain": [
              "                    VND\n",
              "Date                   \n",
              "2012-01-02  32202288.50\n",
              "2012-01-03  33607538.00\n",
              "2012-01-04  33923003.00\n",
              "2012-01-05  33628569.00\n",
              "2012-01-06  34000652.75\n",
              "...                 ...\n",
              "2022-12-26  41586906.00\n",
              "2022-12-27  41894838.00\n",
              "2022-12-28  41727084.00\n",
              "2022-12-29  41961480.00\n",
              "2022-12-30  42138426.00\n",
              "\n",
              "[2870 rows x 1 columns]"
            ],
            "text/html": [
              "\n",
              "  <div id=\"df-458c1c1d-1e50-4c12-b0df-e4652c657b25\">\n",
              "    <div class=\"colab-df-container\">\n",
              "      <div>\n",
              "<style scoped>\n",
              "    .dataframe tbody tr th:only-of-type {\n",
              "        vertical-align: middle;\n",
              "    }\n",
              "\n",
              "    .dataframe tbody tr th {\n",
              "        vertical-align: top;\n",
              "    }\n",
              "\n",
              "    .dataframe thead th {\n",
              "        text-align: right;\n",
              "    }\n",
              "</style>\n",
              "<table border=\"1\" class=\"dataframe\">\n",
              "  <thead>\n",
              "    <tr style=\"text-align: right;\">\n",
              "      <th></th>\n",
              "      <th>VND</th>\n",
              "    </tr>\n",
              "    <tr>\n",
              "      <th>Date</th>\n",
              "      <th></th>\n",
              "    </tr>\n",
              "  </thead>\n",
              "  <tbody>\n",
              "    <tr>\n",
              "      <th>2012-01-02</th>\n",
              "      <td>32202288.50</td>\n",
              "    </tr>\n",
              "    <tr>\n",
              "      <th>2012-01-03</th>\n",
              "      <td>33607538.00</td>\n",
              "    </tr>\n",
              "    <tr>\n",
              "      <th>2012-01-04</th>\n",
              "      <td>33923003.00</td>\n",
              "    </tr>\n",
              "    <tr>\n",
              "      <th>2012-01-05</th>\n",
              "      <td>33628569.00</td>\n",
              "    </tr>\n",
              "    <tr>\n",
              "      <th>2012-01-06</th>\n",
              "      <td>34000652.75</td>\n",
              "    </tr>\n",
              "    <tr>\n",
              "      <th>...</th>\n",
              "      <td>...</td>\n",
              "    </tr>\n",
              "    <tr>\n",
              "      <th>2022-12-26</th>\n",
              "      <td>41586906.00</td>\n",
              "    </tr>\n",
              "    <tr>\n",
              "      <th>2022-12-27</th>\n",
              "      <td>41894838.00</td>\n",
              "    </tr>\n",
              "    <tr>\n",
              "      <th>2022-12-28</th>\n",
              "      <td>41727084.00</td>\n",
              "    </tr>\n",
              "    <tr>\n",
              "      <th>2022-12-29</th>\n",
              "      <td>41961480.00</td>\n",
              "    </tr>\n",
              "    <tr>\n",
              "      <th>2022-12-30</th>\n",
              "      <td>42138426.00</td>\n",
              "    </tr>\n",
              "  </tbody>\n",
              "</table>\n",
              "<p>2870 rows × 1 columns</p>\n",
              "</div>\n",
              "      <button class=\"colab-df-convert\" onclick=\"convertToInteractive('df-458c1c1d-1e50-4c12-b0df-e4652c657b25')\"\n",
              "              title=\"Convert this dataframe to an interactive table.\"\n",
              "              style=\"display:none;\">\n",
              "        \n",
              "  <svg xmlns=\"http://www.w3.org/2000/svg\" height=\"24px\"viewBox=\"0 0 24 24\"\n",
              "       width=\"24px\">\n",
              "    <path d=\"M0 0h24v24H0V0z\" fill=\"none\"/>\n",
              "    <path d=\"M18.56 5.44l.94 2.06.94-2.06 2.06-.94-2.06-.94-.94-2.06-.94 2.06-2.06.94zm-11 1L8.5 8.5l.94-2.06 2.06-.94-2.06-.94L8.5 2.5l-.94 2.06-2.06.94zm10 10l.94 2.06.94-2.06 2.06-.94-2.06-.94-.94-2.06-.94 2.06-2.06.94z\"/><path d=\"M17.41 7.96l-1.37-1.37c-.4-.4-.92-.59-1.43-.59-.52 0-1.04.2-1.43.59L10.3 9.45l-7.72 7.72c-.78.78-.78 2.05 0 2.83L4 21.41c.39.39.9.59 1.41.59.51 0 1.02-.2 1.41-.59l7.78-7.78 2.81-2.81c.8-.78.8-2.07 0-2.86zM5.41 20L4 18.59l7.72-7.72 1.47 1.35L5.41 20z\"/>\n",
              "  </svg>\n",
              "      </button>\n",
              "      \n",
              "  <style>\n",
              "    .colab-df-container {\n",
              "      display:flex;\n",
              "      flex-wrap:wrap;\n",
              "      gap: 12px;\n",
              "    }\n",
              "\n",
              "    .colab-df-convert {\n",
              "      background-color: #E8F0FE;\n",
              "      border: none;\n",
              "      border-radius: 50%;\n",
              "      cursor: pointer;\n",
              "      display: none;\n",
              "      fill: #1967D2;\n",
              "      height: 32px;\n",
              "      padding: 0 0 0 0;\n",
              "      width: 32px;\n",
              "    }\n",
              "\n",
              "    .colab-df-convert:hover {\n",
              "      background-color: #E2EBFA;\n",
              "      box-shadow: 0px 1px 2px rgba(60, 64, 67, 0.3), 0px 1px 3px 1px rgba(60, 64, 67, 0.15);\n",
              "      fill: #174EA6;\n",
              "    }\n",
              "\n",
              "    [theme=dark] .colab-df-convert {\n",
              "      background-color: #3B4455;\n",
              "      fill: #D2E3FC;\n",
              "    }\n",
              "\n",
              "    [theme=dark] .colab-df-convert:hover {\n",
              "      background-color: #434B5C;\n",
              "      box-shadow: 0px 1px 3px 1px rgba(0, 0, 0, 0.15);\n",
              "      filter: drop-shadow(0px 1px 2px rgba(0, 0, 0, 0.3));\n",
              "      fill: #FFFFFF;\n",
              "    }\n",
              "  </style>\n",
              "\n",
              "      <script>\n",
              "        const buttonEl =\n",
              "          document.querySelector('#df-458c1c1d-1e50-4c12-b0df-e4652c657b25 button.colab-df-convert');\n",
              "        buttonEl.style.display =\n",
              "          google.colab.kernel.accessAllowed ? 'block' : 'none';\n",
              "\n",
              "        async function convertToInteractive(key) {\n",
              "          const element = document.querySelector('#df-458c1c1d-1e50-4c12-b0df-e4652c657b25');\n",
              "          const dataTable =\n",
              "            await google.colab.kernel.invokeFunction('convertToInteractive',\n",
              "                                                     [key], {});\n",
              "          if (!dataTable) return;\n",
              "\n",
              "          const docLinkHtml = 'Like what you see? Visit the ' +\n",
              "            '<a target=\"_blank\" href=https://colab.research.google.com/notebooks/data_table.ipynb>data table notebook</a>'\n",
              "            + ' to learn more about interactive tables.';\n",
              "          element.innerHTML = '';\n",
              "          dataTable['output_type'] = 'display_data';\n",
              "          await google.colab.output.renderOutput(dataTable, element);\n",
              "          const docLink = document.createElement('div');\n",
              "          docLink.innerHTML = docLinkHtml;\n",
              "          element.appendChild(docLink);\n",
              "        }\n",
              "      </script>\n",
              "    </div>\n",
              "  </div>\n",
              "  "
            ]
          },
          "metadata": {},
          "execution_count": 2
        }
      ]
    },
    {
      "cell_type": "markdown",
      "source": [
        "# Vẽ đồ thị"
      ],
      "metadata": {
        "id": "fi6QqLdGMxaQ"
      }
    },
    {
      "cell_type": "code",
      "source": [
        "formatter = ticker.StrMethodFormatter('{x:,.0f} VND Dong')\n",
        "\n",
        "title = 'Gold Price History'\n",
        "ylabel = 'VND'\n",
        "xlabel = 'Date'\n",
        "\n",
        "ax = df['VND'].plot(figsize=(16, 9), title=title)\n",
        "ax.autoscale(axis='x', tight=True)\n",
        "ax.set(xlabel=xlabel, ylabel=ylabel)\n",
        "ax.yaxis.set_major_formatter(formatter)\n",
        "ax.grid(True)"
      ],
      "metadata": {
        "id": "s8Kdz1r_3jRY",
        "colab": {
          "base_uri": "https://localhost:8080/",
          "height": 530
        },
        "outputId": "877d2f02-0a95-4a0a-fdf1-06ae65962e13"
      },
      "execution_count": 3,
      "outputs": [
        {
          "output_type": "display_data",
          "data": {
            "text/plain": [
              "<Figure size 1152x648 with 1 Axes>"
            ],
            "image/png": "[encoded data removed]"
          },
          "metadata": {
            "needs_background": "light"
          }
        }
      ]
    },
    {
      "cell_type": "code",
      "source": [
        "gold_price=df['VND']\n",
        "values=gold_price.values\n",
        "Train_len=math.ceil(len(values)*0.9)\n",
        "Train_len"
      ],
      "metadata": {
        "id": "aTJNe_bV3m7k",
        "colab": {
          "base_uri": "https://localhost:8080/"
        },
        "outputId": "f88e8acb-0722-4c22-e33d-57dd1c1001e4"
      },
      "execution_count": 4,
      "outputs": [
        {
          "output_type": "execute_result",
          "data": {
            "text/plain": [
              "2583"
            ]
          },
          "metadata": {},
          "execution_count": 4
        }
      ]
    },
    {
      "cell_type": "markdown",
      "source": [
        "### Trực chuẩn hoá dữ liệu"
      ],
      "metadata": {
        "id": "a7-VmdtzOtBV"
      }
    },
    {
      "cell_type": "code",
      "source": [
        "sc=MinMaxScaler(feature_range=(0,1))\n",
        "scaled_data=sc.fit_transform(df)\n",
        "scaled_data"
      ],
      "metadata": {
        "id": "9rliiNzAO1KX",
        "colab": {
          "base_uri": "https://localhost:8080/"
        },
        "outputId": "bfb29794-6d02-4728-e61e-85b09043c63b"
      },
      "execution_count": 5,
      "outputs": [
        {
          "output_type": "execute_result",
          "data": {
            "text/plain": [
              "array([[0.35425019],\n",
              "       [0.4120421 ],\n",
              "       [0.42501583],\n",
              "       ...,\n",
              "       [0.74596438],\n",
              "       [0.75560409],\n",
              "       [0.76288112]])"
            ]
          },
          "metadata": {},
          "execution_count": 5
        }
      ]
    },
    {
      "cell_type": "markdown",
      "source": [
        "### Create Training & Testing Data"
      ],
      "metadata": {
        "id": "3UrEIXlAPSa-"
      }
    },
    {
      "cell_type": "code",
      "source": [
        "train_data=scaled_data[0:Train_len,:]\n",
        "\n",
        "train_x=[]\n",
        "train_y=[]\n",
        "\n",
        "for i in range(365, len(train_data)):  # 1 years\n",
        "  train_x.append(train_data[i-365:i,0])\n",
        "  train_y.append(train_data[i,0])\n",
        "\n",
        "train_x,train_y=np.array(train_x), np.array(train_y)\n",
        "\n",
        "train_x=np.reshape(train_x,(train_x.shape[0],train_x.shape[1],1))\n"
      ],
      "metadata": {
        "id": "cqjK5SFSQHPY"
      },
      "execution_count": 6,
      "outputs": []
    },
    {
      "cell_type": "markdown",
      "source": [
        "### Xây dựng model"
      ],
      "metadata": {
        "id": "_L3WipC-gfdU"
      }
    },
    {
      "cell_type": "code",
      "source": [
        "# define model\n",
        "model = Sequential()\n",
        "model.add(LSTM(100, return_sequences=True,input_shape=(train_x.shape[1],1)))\n",
        "model.add(LSTM(100, return_sequences=False))\n",
        "model.add(Dense(25))\n",
        "model.add(Dense(1))\n",
        "# compile model\n",
        "model.compile(loss='mse', optimizer='adam')\n",
        "# fit model\n",
        "m=model.fit(train_x, train_y,batch_size= 32, epochs=50)"
      ],
      "metadata": {
        "colab": {
          "base_uri": "https://localhost:8080/"
        },
        "id": "Wz_5irx0XueN",
        "outputId": "4e065cd3-f9d9-40c9-e806-5a5c7f247629"
      },
      "execution_count": 7,
      "outputs": [
        {
          "output_type": "stream",
          "name": "stdout",
          "text": [
            "Epoch 1/50\n",
            "70/70 [==============================] - 52s 607ms/step - loss: 0.0070\n",
            "Epoch 2/50\n",
            "70/70 [==============================] - 37s 529ms/step - loss: 6.7331e-04\n",
            "Epoch 3/50\n",
            "70/70 [==============================] - 39s 555ms/step - loss: 6.3290e-04\n",
            "Epoch 4/50\n",
            "70/70 [==============================] - 37s 528ms/step - loss: 6.0813e-04\n",
            "Epoch 5/50\n",
            "70/70 [==============================] - 37s 528ms/step - loss: 6.5449e-04\n",
            "Epoch 6/50\n",
            "70/70 [==============================] - 37s 529ms/step - loss: 5.4968e-04\n",
            "Epoch 7/50\n",
            "70/70 [==============================] - 37s 528ms/step - loss: 5.2144e-04\n",
            "Epoch 8/50\n",
            "70/70 [==============================] - 37s 526ms/step - loss: 5.0745e-04\n",
            "Epoch 9/50\n",
            "70/70 [==============================] - 37s 527ms/step - loss: 4.4266e-04\n",
            "Epoch 10/50\n",
            "70/70 [==============================] - 37s 524ms/step - loss: 4.2523e-04\n",
            "Epoch 11/50\n",
            "70/70 [==============================] - 37s 528ms/step - loss: 3.9064e-04\n",
            "Epoch 12/50\n",
            "70/70 [==============================] - 37s 528ms/step - loss: 4.1887e-04\n",
            "Epoch 13/50\n",
            "70/70 [==============================] - 37s 527ms/step - loss: 3.9779e-04\n",
            "Epoch 14/50\n",
            "70/70 [==============================] - 37s 530ms/step - loss: 3.6525e-04\n",
            "Epoch 15/50\n",
            "70/70 [==============================] - 37s 527ms/step - loss: 3.9548e-04\n",
            "Epoch 16/50\n",
            "70/70 [==============================] - 37s 526ms/step - loss: 3.3172e-04\n",
            "Epoch 17/50\n",
            "70/70 [==============================] - 37s 526ms/step - loss: 3.1484e-04\n",
            "Epoch 18/50\n",
            "70/70 [==============================] - 37s 523ms/step - loss: 2.7916e-04\n",
            "Epoch 19/50\n",
            "70/70 [==============================] - 37s 526ms/step - loss: 2.5640e-04\n",
            "Epoch 20/50\n",
            "70/70 [==============================] - 37s 526ms/step - loss: 2.3939e-04\n",
            "Epoch 21/50\n",
            "70/70 [==============================] - 37s 524ms/step - loss: 2.4783e-04\n",
            "Epoch 22/50\n",
            "70/70 [==============================] - 37s 526ms/step - loss: 2.9092e-04\n",
            "Epoch 23/50\n",
            "70/70 [==============================] - 37s 526ms/step - loss: 2.1286e-04\n",
            "Epoch 24/50\n",
            "70/70 [==============================] - 37s 526ms/step - loss: 2.2487e-04\n",
            "Epoch 25/50\n",
            "70/70 [==============================] - 37s 527ms/step - loss: 2.3009e-04\n",
            "Epoch 26/50\n",
            "70/70 [==============================] - 37s 523ms/step - loss: 2.0800e-04\n",
            "Epoch 27/50\n",
            "70/70 [==============================] - 37s 525ms/step - loss: 1.8624e-04\n",
            "Epoch 28/50\n",
            "70/70 [==============================] - 37s 527ms/step - loss: 2.0990e-04\n",
            "Epoch 29/50\n",
            "70/70 [==============================] - 37s 526ms/step - loss: 1.8201e-04\n",
            "Epoch 30/50\n",
            "70/70 [==============================] - 37s 527ms/step - loss: 1.8345e-04\n",
            "Epoch 31/50\n",
            "70/70 [==============================] - 37s 527ms/step - loss: 1.9096e-04\n",
            "Epoch 32/50\n",
            "70/70 [==============================] - 37s 527ms/step - loss: 1.9628e-04\n",
            "Epoch 33/50\n",
            "70/70 [==============================] - 37s 526ms/step - loss: 1.8365e-04\n",
            "Epoch 34/50\n",
            "70/70 [==============================] - 37s 525ms/step - loss: 1.7607e-04\n",
            "Epoch 35/50\n",
            "70/70 [==============================] - 37s 525ms/step - loss: 2.3179e-04\n",
            "Epoch 36/50\n",
            "70/70 [==============================] - 37s 526ms/step - loss: 2.1148e-04\n",
            "Epoch 37/50\n",
            "70/70 [==============================] - 37s 524ms/step - loss: 1.8361e-04\n",
            "Epoch 38/50\n",
            "70/70 [==============================] - 37s 526ms/step - loss: 2.6448e-04\n",
            "Epoch 39/50\n",
            "70/70 [==============================] - 37s 525ms/step - loss: 2.1326e-04\n",
            "Epoch 40/50\n",
            "70/70 [==============================] - 37s 527ms/step - loss: 1.8925e-04\n",
            "Epoch 41/50\n",
            "70/70 [==============================] - 37s 524ms/step - loss: 1.7810e-04\n",
            "Epoch 42/50\n",
            "70/70 [==============================] - 42s 604ms/step - loss: 1.8979e-04\n",
            "Epoch 43/50\n",
            "70/70 [==============================] - 37s 525ms/step - loss: 1.7140e-04\n",
            "Epoch 44/50\n",
            "70/70 [==============================] - 37s 534ms/step - loss: 1.8369e-04\n",
            "Epoch 45/50\n",
            "70/70 [==============================] - 37s 528ms/step - loss: 1.7567e-04\n",
            "Epoch 46/50\n",
            "70/70 [==============================] - 37s 528ms/step - loss: 1.8270e-04\n",
            "Epoch 47/50\n",
            "70/70 [==============================] - 37s 527ms/step - loss: 1.8546e-04\n",
            "Epoch 48/50\n",
            "70/70 [==============================] - 37s 529ms/step - loss: 2.0341e-04\n",
            "Epoch 49/50\n",
            "70/70 [==============================] - 37s 529ms/step - loss: 1.8344e-04\n",
            "Epoch 50/50\n",
            "70/70 [==============================] - 37s 528ms/step - loss: 1.7428e-04\n"
          ]
        }
      ]
    },
    {
      "cell_type": "code",
      "source": [
        "model.save(\"GoldPrice_lstm_9_1.h5\")"
      ],
      "metadata": {
        "id": "ZgC13VzREi9I"
      },
      "execution_count": 8,
      "outputs": []
    },
    {
      "cell_type": "code",
      "source": [
        "# Create the testing data\n",
        "test_data=scaled_data[Train_len-365:,:]\n",
        "test_x=[]\n",
        "test_y=df[Train_len:]\n",
        "for i in range (365, len(test_data)):\n",
        "  test_x.append(test_data[i-365:i,0])\n",
        "test_x=np.array(test_x)\n",
        "test_x=np.reshape(test_x,(test_x.shape[0],test_x.shape[1],1))"
      ],
      "metadata": {
        "id": "nPK931YJj_ay"
      },
      "execution_count": 9,
      "outputs": []
    },
    {
      "cell_type": "code",
      "source": [
        "Predictions= model.predict(test_x)\n",
        "Predictions=sc.inverse_transform(Predictions)"
      ],
      "metadata": {
        "colab": {
          "base_uri": "https://localhost:8080/"
        },
        "id": "tbpDtIiiicRZ",
        "outputId": "efe79508-0e25-42e2-fa30-c98ffe6d92e6"
      },
      "execution_count": 10,
      "outputs": [
        {
          "output_type": "stream",
          "name": "stdout",
          "text": [
            "9/9 [==============================] - 2s 160ms/step\n"
          ]
        }
      ]
    },
    {
      "cell_type": "code",
      "source": [
        "#plot data\n",
        "train=df[:Train_len]\n",
        "validation=df[Train_len:]\n",
        "validation['Predictions']= Predictions\n",
        "#visualize data\n",
        "plt.figure(figsize=(16,8))\n",
        "plt.title('Forcasting Gold Price According To The LSTM Model')\n",
        "plt.xlabel('Date', fontsize=18)\n",
        "plt.ylabel('Vietnamese Dong',fontsize=18)\n",
        "plt.plot(train['VND'])\n",
        "plt.plot(validation[['VND','Predictions']])\n",
        "plt.legend(['Training','Validation','Predictions'])\n",
        "plt.show()"
      ],
      "metadata": {
        "colab": {
          "base_uri": "https://localhost:8080/",
          "height": 521
        },
        "id": "kDZBs0RBifZX",
        "outputId": "5849a320-eeaa-47c4-e3ee-3487b18ef77a"
      },
      "execution_count": 11,
      "outputs": [
        {
          "output_type": "display_data",
          "data": {
            "text/plain": [
              "<Figure size 1152x576 with 1 Axes>"
            ],
            "image/png": "[encoded data removed]"
          },
          "metadata": {
            "needs_background": "light"
          }
        }
      ]
    },
    {
      "cell_type": "code",
      "source": [
        "validation"
      ],
      "metadata": {
        "colab": {
          "base_uri": "https://localhost:8080/",
          "height": 455
        },
        "id": "pqdtKjr_OQh3",
        "outputId": "54c428e5-2222-4577-cbdf-868209b8adb9"
      },
      "execution_count": 12,
      "outputs": [
        {
          "output_type": "execute_result",
          "data": {
            "text/plain": [
              "                    VND  Predictions\n",
              "Date                                \n",
              "2021-11-25  40546299.04   40529284.0\n",
              "2021-11-26  40840344.31   40706468.0\n",
              "2021-11-29  40523204.39   41015164.0\n",
              "2021-11-30  40948149.18   40641236.0\n",
              "2021-12-01  40642813.75   41039404.0\n",
              "...                 ...          ...\n",
              "2022-12-26  41586906.00   41475464.0\n",
              "2022-12-27  41894838.00   41655672.0\n",
              "2022-12-28  41727084.00   41983032.0\n",
              "2022-12-29  41961480.00   41782096.0\n",
              "2022-12-30  42138426.00   42007460.0\n",
              "\n",
              "[287 rows x 2 columns]"
            ],
            "text/html": [
              "\n",
              "  <div id=\"df-439b04f4-6b4d-4b3f-b55a-4bfb3d0aedff\">\n",
              "    <div class=\"colab-df-container\">\n",
              "      <div>\n",
              "<style scoped>\n",
              "    .dataframe tbody tr th:only-of-type {\n",
              "        vertical-align: middle;\n",
              "    }\n",
              "\n",
              "    .dataframe tbody tr th {\n",
              "        vertical-align: top;\n",
              "    }\n",
              "\n",
              "    .dataframe thead th {\n",
              "        text-align: right;\n",
              "    }\n",
              "</style>\n",
              "<table border=\"1\" class=\"dataframe\">\n",
              "  <thead>\n",
              "    <tr style=\"text-align: right;\">\n",
              "      <th></th>\n",
              "      <th>VND</th>\n",
              "      <th>Predictions</th>\n",
              "    </tr>\n",
              "    <tr>\n",
              "      <th>Date</th>\n",
              "      <th></th>\n",
              "      <th></th>\n",
              "    </tr>\n",
              "  </thead>\n",
              "  <tbody>\n",
              "    <tr>\n",
              "      <th>2021-11-25</th>\n",
              "      <td>40546299.04</td>\n",
              "      <td>40529284.0</td>\n",
              "    </tr>\n",
              "    <tr>\n",
              "      <th>2021-11-26</th>\n",
              "      <td>40840344.31</td>\n",
              "      <td>40706468.0</td>\n",
              "    </tr>\n",
              "    <tr>\n",
              "      <th>2021-11-29</th>\n",
              "      <td>40523204.39</td>\n",
              "      <td>41015164.0</td>\n",
              "    </tr>\n",
              "    <tr>\n",
              "      <th>2021-11-30</th>\n",
              "      <td>40948149.18</td>\n",
              "      <td>40641236.0</td>\n",
              "    </tr>\n",
              "    <tr>\n",
              "      <th>2021-12-01</th>\n",
              "      <td>40642813.75</td>\n",
              "      <td>41039404.0</td>\n",
              "    </tr>\n",
              "    <tr>\n",
              "      <th>...</th>\n",
              "      <td>...</td>\n",
              "      <td>...</td>\n",
              "    </tr>\n",
              "    <tr>\n",
              "      <th>2022-12-26</th>\n",
              "      <td>41586906.00</td>\n",
              "      <td>41475464.0</td>\n",
              "    </tr>\n",
              "    <tr>\n",
              "      <th>2022-12-27</th>\n",
              "      <td>41894838.00</td>\n",
              "      <td>41655672.0</td>\n",
              "    </tr>\n",
              "    <tr>\n",
              "      <th>2022-12-28</th>\n",
              "      <td>41727084.00</td>\n",
              "      <td>41983032.0</td>\n",
              "    </tr>\n",
              "    <tr>\n",
              "      <th>2022-12-29</th>\n",
              "      <td>41961480.00</td>\n",
              "      <td>41782096.0</td>\n",
              "    </tr>\n",
              "    <tr>\n",
              "      <th>2022-12-30</th>\n",
              "      <td>42138426.00</td>\n",
              "      <td>42007460.0</td>\n",
              "    </tr>\n",
              "  </tbody>\n",
              "</table>\n",
              "<p>287 rows × 2 columns</p>\n",
              "</div>\n",
              "      <button class=\"colab-df-convert\" onclick=\"convertToInteractive('df-439b04f4-6b4d-4b3f-b55a-4bfb3d0aedff')\"\n",
              "              title=\"Convert this dataframe to an interactive table.\"\n",
              "              style=\"display:none;\">\n",
              "        \n",
              "  <svg xmlns=\"http://www.w3.org/2000/svg\" height=\"24px\"viewBox=\"0 0 24 24\"\n",
              "       width=\"24px\">\n",
              "    <path d=\"M0 0h24v24H0V0z\" fill=\"none\"/>\n",
              "    <path d=\"M18.56 5.44l.94 2.06.94-2.06 2.06-.94-2.06-.94-.94-2.06-.94 2.06-2.06.94zm-11 1L8.5 8.5l.94-2.06 2.06-.94-2.06-.94L8.5 2.5l-.94 2.06-2.06.94zm10 10l.94 2.06.94-2.06 2.06-.94-2.06-.94-.94-2.06-.94 2.06-2.06.94z\"/><path d=\"M17.41 7.96l-1.37-1.37c-.4-.4-.92-.59-1.43-.59-.52 0-1.04.2-1.43.59L10.3 9.45l-7.72 7.72c-.78.78-.78 2.05 0 2.83L4 21.41c.39.39.9.59 1.41.59.51 0 1.02-.2 1.41-.59l7.78-7.78 2.81-2.81c.8-.78.8-2.07 0-2.86zM5.41 20L4 18.59l7.72-7.72 1.47 1.35L5.41 20z\"/>\n",
              "  </svg>\n",
              "      </button>\n",
              "      \n",
              "  <style>\n",
              "    .colab-df-container {\n",
              "      display:flex;\n",
              "      flex-wrap:wrap;\n",
              "      gap: 12px;\n",
              "    }\n",
              "\n",
              "    .colab-df-convert {\n",
              "      background-color: #E8F0FE;\n",
              "      border: none;\n",
              "      border-radius: 50%;\n",
              "      cursor: pointer;\n",
              "      display: none;\n",
              "      fill: #1967D2;\n",
              "      height: 32px;\n",
              "      padding: 0 0 0 0;\n",
              "      width: 32px;\n",
              "    }\n",
              "\n",
              "    .colab-df-convert:hover {\n",
              "      background-color: #E2EBFA;\n",
              "      box-shadow: 0px 1px 2px rgba(60, 64, 67, 0.3), 0px 1px 3px 1px rgba(60, 64, 67, 0.15);\n",
              "      fill: #174EA6;\n",
              "    }\n",
              "\n",
              "    [theme=dark] .colab-df-convert {\n",
              "      background-color: #3B4455;\n",
              "      fill: #D2E3FC;\n",
              "    }\n",
              "\n",
              "    [theme=dark] .colab-df-convert:hover {\n",
              "      background-color: #434B5C;\n",
              "      box-shadow: 0px 1px 3px 1px rgba(0, 0, 0, 0.15);\n",
              "      filter: drop-shadow(0px 1px 2px rgba(0, 0, 0, 0.3));\n",
              "      fill: #FFFFFF;\n",
              "    }\n",
              "  </style>\n",
              "\n",
              "      <script>\n",
              "        const buttonEl =\n",
              "          document.querySelector('#df-439b04f4-6b4d-4b3f-b55a-4bfb3d0aedff button.colab-df-convert');\n",
              "        buttonEl.style.display =\n",
              "          google.colab.kernel.accessAllowed ? 'block' : 'none';\n",
              "\n",
              "        async function convertToInteractive(key) {\n",
              "          const element = document.querySelector('#df-439b04f4-6b4d-4b3f-b55a-4bfb3d0aedff');\n",
              "          const dataTable =\n",
              "            await google.colab.kernel.invokeFunction('convertToInteractive',\n",
              "                                                     [key], {});\n",
              "          if (!dataTable) return;\n",
              "\n",
              "          const docLinkHtml = 'Like what you see? Visit the ' +\n",
              "            '<a target=\"_blank\" href=https://colab.research.google.com/notebooks/data_table.ipynb>data table notebook</a>'\n",
              "            + ' to learn more about interactive tables.';\n",
              "          element.innerHTML = '';\n",
              "          dataTable['output_type'] = 'display_data';\n",
              "          await google.colab.output.renderOutput(dataTable, element);\n",
              "          const docLink = document.createElement('div');\n",
              "          docLink.innerHTML = docLinkHtml;\n",
              "          element.appendChild(docLink);\n",
              "        }\n",
              "      </script>\n",
              "    </div>\n",
              "  </div>\n",
              "  "
            ]
          },
          "metadata": {},
          "execution_count": 12
        }
      ]
    },
    {
      "cell_type": "code",
      "source": [
        "data=validation['VND']"
      ],
      "metadata": {
        "id": "Xoi1ozKZCBkz"
      },
      "execution_count": 13,
      "outputs": []
    },
    {
      "cell_type": "code",
      "source": [
        "data"
      ],
      "metadata": {
        "colab": {
          "base_uri": "https://localhost:8080/"
        },
        "id": "ETO6SnC3CHh3",
        "outputId": "84c491d9-9fdd-4e31-dac3-516af866407d"
      },
      "execution_count": 14,
      "outputs": [
        {
          "output_type": "execute_result",
          "data": {
            "text/plain": [
              "Date\n",
              "2021-11-25    40546299.04\n",
              "2021-11-26    40840344.31\n",
              "2021-11-29    40523204.39\n",
              "2021-11-30    40948149.18\n",
              "2021-12-01    40642813.75\n",
              "                 ...     \n",
              "2022-12-26    41586906.00\n",
              "2022-12-27    41894838.00\n",
              "2022-12-28    41727084.00\n",
              "2022-12-29    41961480.00\n",
              "2022-12-30    42138426.00\n",
              "Name: VND, Length: 287, dtype: float64"
            ]
          },
          "metadata": {},
          "execution_count": 14
        }
      ]
    },
    {
      "cell_type": "code",
      "source": [
        "mae = mean_absolute_error(data, Predictions)\n",
        "mape = mean_absolute_percentage_error(data, Predictions)\n",
        "mse = mean_squared_error(data, Predictions)\n",
        "rmse = np.sqrt(mse)\n",
        "r2 = r2_score(data, Predictions)\n",
        "print(f\"MAPE: {mape * 100:.2f}%\")\n",
        "print(f\"RMSE: {rmse:.0f}\")"
      ],
      "metadata": {
        "id": "zSG_mUOIm6pD",
        "colab": {
          "base_uri": "https://localhost:8080/"
        },
        "outputId": "bbac7123-313b-427d-a543-d5b3974c9a99"
      },
      "execution_count": 15,
      "outputs": [
        {
          "output_type": "stream",
          "name": "stdout",
          "text": [
            "MAPE: 0.72%\n",
            "RMSE: 402567\n"
          ]
        }
      ]
    },
    {
      "cell_type": "code",
      "source": [
        "Last_half_year=df[-548:].values\n",
        "Last_half_year_scaled=sc.transform(Last_half_year)\n",
        "x_test=[]\n",
        "x_test.append(Last_half_year_scaled)\n",
        "x_test=np.array(x_test)\n",
        "x_test=np.reshape(x_test,(x_test.shape[0],x_test.shape[1],1))\n",
        "x_test.shape"
      ],
      "metadata": {
        "colab": {
          "base_uri": "https://localhost:8080/"
        },
        "id": "83god-eEBtp2",
        "outputId": "7c4820ef-aa39-4999-d233-88f1df4cc867"
      },
      "execution_count": 31,
      "outputs": [
        {
          "output_type": "execute_result",
          "data": {
            "text/plain": [
              "(1, 548, 1)"
            ]
          },
          "metadata": {},
          "execution_count": 31
        }
      ]
    },
    {
      "cell_type": "code",
      "source": [
        "model.reset_states()\n",
        "pred_price=model.predict(x_test)\n",
        "pred_price=sc.inverse_transform(pred_price)\n",
        "print(pred_price) #2022-08-05"
      ],
      "metadata": {
        "colab": {
          "base_uri": "https://localhost:8080/"
        },
        "id": "BeczfDXiEDQ8",
        "outputId": "35b1d38e-1be6-40ad-d571-2938ccbe0f49"
      },
      "execution_count": 32,
      "outputs": [
        {
          "output_type": "stream",
          "name": "stdout",
          "text": [
            "1/1 [==============================] - 2s 2s/step\n",
            "[[42189788.]]\n"
          ]
        }
      ]
    },
    {
      "cell_type": "code",
      "source": [
        "len(test_data)"
      ],
      "metadata": {
        "colab": {
          "base_uri": "https://localhost:8080/"
        },
        "id": "wluF77HzJpF_",
        "outputId": "ae7c2bec-7dc1-4528-d094-ebc8f6e54217"
      },
      "execution_count": 33,
      "outputs": [
        {
          "output_type": "execute_result",
          "data": {
            "text/plain": [
              "652"
            ]
          },
          "metadata": {},
          "execution_count": 33
        }
      ]
    },
    {
      "cell_type": "code",
      "source": [
        "#Getting the last 100 days records\n",
        "future=test_data[552:]"
      ],
      "metadata": {
        "id": "4t0SdBNLJvCA"
      },
      "execution_count": 34,
      "outputs": []
    },
    {
      "cell_type": "code",
      "source": [
        "future=future.reshape(1,-1)\n",
        "temp=list(future)\n",
        "future.shape"
      ],
      "metadata": {
        "colab": {
          "base_uri": "https://localhost:8080/"
        },
        "id": "iLo0x1KkVuN4",
        "outputId": "6831b0f9-8d67-4e77-a44f-2839e3e91ce7"
      },
      "execution_count": 35,
      "outputs": [
        {
          "output_type": "execute_result",
          "data": {
            "text/plain": [
              "(1, 100)"
            ]
          },
          "metadata": {},
          "execution_count": 35
        }
      ]
    },
    {
      "cell_type": "code",
      "source": [
        "#Creating list of the last 600 data\n",
        "temp=temp[0].tolist()"
      ],
      "metadata": {
        "id": "JD9_zXLNV7et"
      },
      "execution_count": 36,
      "outputs": []
    },
    {
      "cell_type": "code",
      "source": [
        "#Predicting next 30 days price uisng the current data\n",
        "lst_output=[]\n",
        "n_steps=100\n",
        "i=0\n",
        "while(i<30):\n",
        "    \n",
        "    if(len(temp)>100):\n",
        "        future = np.array(temp[1:])\n",
        "        future=future.reshape(1,-1)\n",
        "        future = future.reshape((1, n_steps, 1))\n",
        "        yhat = model.predict(future, verbose=0)\n",
        "        temp.extend(yhat[0].tolist())\n",
        "        temp = temp[1:]\n",
        "        lst_output.extend(yhat.tolist())\n",
        "        i=i+1\n",
        "    else:\n",
        "        future = future.reshape((1, n_steps,1))\n",
        "        yhat = model.predict(future, verbose=0)\n",
        "        temp.extend(yhat[0].tolist())\n",
        "        lst_output.extend(yhat.tolist())\n",
        "        i=i+1\n",
        "\n",
        "print(lst_output)"
      ],
      "metadata": {
        "colab": {
          "base_uri": "https://localhost:8080/"
        },
        "id": "udJUWP9hV_17",
        "outputId": "1a9f893a-94fc-4a3f-ba57-240ca0bfb2e6"
      },
      "execution_count": 37,
      "outputs": [
        {
          "output_type": "stream",
          "name": "stdout",
          "text": [
            "[[0.7649933695793152], [0.7665778398513794], [0.7677404880523682], [0.7689219117164612], [0.7703548073768616], [0.7720748782157898], [0.774005115032196], [0.7760327458381653], [0.7780593633651733], [0.7800226807594299], [0.7818977236747742], [0.7836875319480896], [0.7854095697402954], [0.787085235118866], [0.7887331247329712], [0.7903659343719482], [0.7919901013374329], [0.7936081886291504], [0.7952201962471008], [0.7968249917030334], [0.7984216809272766], [0.8000096082687378], [0.801588773727417], [0.8031588196754456], [0.804719865322113], [0.8062721490859985], [0.8078152537345886], [0.8093487024307251], [0.8108720779418945], [0.8123847842216492]]\n"
          ]
        }
      ]
    },
    {
      "cell_type": "code",
      "source": [
        "tam=sc.inverse_transform(lst_output)\n",
        "print(tam)"
      ],
      "metadata": {
        "colab": {
          "base_uri": "https://localhost:8080/"
        },
        "id": "EfOpFjoCD3XY",
        "outputId": "818c9589-d704-46ac-d956-35d3d537f8aa"
      },
      "execution_count": 38,
      "outputs": [
        {
          "output_type": "stream",
          "name": "stdout",
          "text": [
            "[[42189786.73333822]\n",
            " [42228314.19926381]\n",
            " [42256584.7763373 ]\n",
            " [42285311.89149027]\n",
            " [42320153.71825366]\n",
            " [42361978.40364209]\n",
            " [42408913.41686612]\n",
            " [42458216.63079445]\n",
            " [42507495.20615976]\n",
            " [42555234.596     ]\n",
            " [42600827.53220311]\n",
            " [42644347.93045815]\n",
            " [42686220.44364539]\n",
            " [42726965.38024269]\n",
            " [42767034.93034783]\n",
            " [42806737.80066215]\n",
            " [42846230.51852719]\n",
            " [42885575.40501413]\n",
            " [42924772.46012294]\n",
            " [42963794.14663615]\n",
            " [43002618.7246452 ]\n",
            " [43041230.25155051]\n",
            " [43079628.72735206]\n",
            " [43117805.45608644]\n",
            " [43155763.33640812]\n",
            " [43193508.16562605]\n",
            " [43231029.79844958]\n",
            " [43268316.64026079]\n",
            " [43305358.54576907]\n",
            " [43342141.02170201]]\n"
          ]
        }
      ]
    },
    {
      "cell_type": "code",
      "source": [
        "len(tam)"
      ],
      "metadata": {
        "colab": {
          "base_uri": "https://localhost:8080/"
        },
        "id": "eDKMlv-dWfwH",
        "outputId": "fddc730a-df92-4b26-c738-abace412e162"
      },
      "execution_count": 39,
      "outputs": [
        {
          "output_type": "execute_result",
          "data": {
            "text/plain": [
              "30"
            ]
          },
          "metadata": {},
          "execution_count": 39
        }
      ]
    },
    {
      "cell_type": "code",
      "source": [
        "len(scaled_data)"
      ],
      "metadata": {
        "colab": {
          "base_uri": "https://localhost:8080/"
        },
        "id": "9ULjO6vZCMOc",
        "outputId": "9dc32540-f873-4b50-dd1d-ffbba231d90a"
      },
      "execution_count": 40,
      "outputs": [
        {
          "output_type": "execute_result",
          "data": {
            "text/plain": [
              "2870"
            ]
          },
          "metadata": {},
          "execution_count": 40
        }
      ]
    },
    {
      "cell_type": "code",
      "source": [
        "#Creating a dummy plane to plot graph one after another\n",
        "plot_new=np.arange(1,101)\n",
        "plot_pred=np.arange(101,131)\n",
        "plt.plot(plot_new, sc.inverse_transform(scaled_data[2770:]))\n",
        "plt.plot(plot_pred, sc.inverse_transform(lst_output),c='pink')"
      ],
      "metadata": {
        "colab": {
          "base_uri": "https://localhost:8080/",
          "height": 293
        },
        "id": "G1d35Q1Ea59B",
        "outputId": "8b88d72a-60c4-4380-88c0-fc9dee0d3654"
      },
      "execution_count": 41,
      "outputs": [
        {
          "output_type": "execute_result",
          "data": {
            "text/plain": [
              "[<matplotlib.lines.Line2D at 0x7f0e24506ac0>]"
            ]
          },
          "metadata": {},
          "execution_count": 41
        },
        {
          "output_type": "display_data",
          "data": {
            "text/plain": [
              "<Figure size 432x288 with 1 Axes>"
            ],
            "image/png": "[encoded data removed]"
          },
          "metadata": {
            "needs_background": "light"
          }
        }
      ]
    },
    {
      "cell_type": "code",
      "source": [
        "dataset_new=scaled_data.tolist()"
      ],
      "metadata": {
        "id": "wW68AhNtXECl"
      },
      "execution_count": 42,
      "outputs": []
    },
    {
      "cell_type": "code",
      "source": [
        "len(dataset_new)"
      ],
      "metadata": {
        "colab": {
          "base_uri": "https://localhost:8080/"
        },
        "id": "GasaMYM1Xia4",
        "outputId": "0879e707-1a69-4a50-f154-566960a8c9ef"
      },
      "execution_count": 43,
      "outputs": [
        {
          "output_type": "execute_result",
          "data": {
            "text/plain": [
              "2870"
            ]
          },
          "metadata": {},
          "execution_count": 43
        }
      ]
    },
    {
      "cell_type": "code",
      "source": [
        "#Entends helps us to fill the missing value with approx value\n",
        "dataset_new.extend(lst_output)"
      ],
      "metadata": {
        "id": "_cPLXrR4YyvG"
      },
      "execution_count": 44,
      "outputs": []
    },
    {
      "cell_type": "code",
      "source": [
        "final=sc.inverse_transform(dataset_new).tolist()\n",
        "\n",
        "plt.ylabel(\"Gold Price in Future\")\n",
        "plt.xlabel(\"Time\")\n",
        "plt.title(\"Prediction of next 270 days for Gold Price\")\n",
        "plt.plot(final,)\n",
        "plt.show()"
      ],
      "metadata": {
        "colab": {
          "base_uri": "https://localhost:8080/",
          "height": 295
        },
        "id": "OXTV83DHXl3R",
        "outputId": "b2356136-7bb7-43c9-a41b-3df3c62d6ed7"
      },
      "execution_count": 45,
      "outputs": [
        {
          "output_type": "display_data",
          "data": {
            "text/plain": [
              "<Figure size 432x288 with 1 Axes>"
            ],
            "image/png": "[encoded data removed]"
          },
          "metadata": {
            "needs_background": "light"
          }
        }
      ]
    }
  ]
}